{
 "cells": [
  {
   "cell_type": "markdown",
   "id": "90322bd2-96ba-4d8c-ba29-d138bb3d79e8",
   "metadata": {},
   "source": [
    "# 第3节：添加图例、文本和注解"
   ]
  },
  {
   "cell_type": "markdown",
   "id": "7857f69e-38c3-4095-9659-6c5e60579424",
   "metadata": {},
   "source": []
  },
  {
   "cell_type": "markdown",
   "id": "7cbd130c-595f-4d0e-b634-3c70e1f5d7c3",
   "metadata": {},
   "source": []
  },
  {
   "cell_type": "markdown",
   "id": "b7072850-7568-4fda-95fe-9eef6b97fd9e",
   "metadata": {},
   "source": []
  },
  {
   "cell_type": "markdown",
   "id": "18798297-38c4-4cf9-aaf0-471a2aab11b4",
   "metadata": {},
   "source": []
  },
  {
   "cell_type": "markdown",
   "id": "0b4b2335-cf4b-4a83-935a-b00bf0dbebca",
   "metadata": {},
   "source": []
  },
  {
   "cell_type": "markdown",
   "id": "37d6bae3-6260-4715-be9d-9f9037d3a41d",
   "metadata": {},
   "source": []
  },
  {
   "cell_type": "markdown",
   "id": "d7a55c9b-11ab-41e9-a121-a3b2fbf2f754",
   "metadata": {},
   "source": []
  }
 ],
 "metadata": {
  "kernelspec": {
   "display_name": "Python 3",
   "language": "python",
   "name": "python3"
  },
  "language_info": {
   "codemirror_mode": {
    "name": "ipython",
    "version": 3
   },
   "file_extension": ".py",
   "mimetype": "text/x-python",
   "name": "python",
   "nbconvert_exporter": "python",
   "pygments_lexer": "ipython3",
   "version": "3.8.8"
  }
 },
 "nbformat": 4,
 "nbformat_minor": 5
}
